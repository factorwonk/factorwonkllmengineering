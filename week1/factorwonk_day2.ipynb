{
 "cells": [
  {
   "cell_type": "markdown",
   "metadata": {},
   "source": [
    "### Ollama Testing\n",
    "---"
   ]
  },
  {
   "cell_type": "code",
   "execution_count": 1,
   "metadata": {},
   "outputs": [
    {
     "name": "stdout",
     "output_type": "stream",
     "text": [
      "\u001b[?25lpulling manifest ⠋ \u001b[?25h\u001b[?25l\u001b[2K\u001b[1Gpulling manifest ⠙ \u001b[?25h\u001b[?25l\u001b[2K\u001b[1Gpulling manifest ⠹ \u001b[?25h\u001b[?25l\u001b[2K\u001b[1Gpulling manifest ⠸ \u001b[?25h\u001b[?25l\u001b[2K\u001b[1Gpulling manifest ⠼ \u001b[?25h\u001b[?25l\u001b[2K\u001b[1Gpulling manifest ⠴ \u001b[?25h\u001b[?25l\u001b[2K\u001b[1Gpulling manifest ⠦ \u001b[?25h\u001b[?25l\u001b[2K\u001b[1Gpulling manifest ⠧ \u001b[?25h\u001b[?25l\u001b[2K\u001b[1Gpulling manifest ⠇ \u001b[?25h\u001b[?25l\u001b[2K\u001b[1Gpulling manifest ⠏ \u001b[?25h\u001b[?25l\u001b[2K\u001b[1Gpulling manifest ⠋ \u001b[?25h\u001b[?25l\u001b[2K\u001b[1Gpulling manifest ⠙ \u001b[?25h\u001b[?25l\u001b[2K\u001b[1Gpulling manifest ⠹ \u001b[?25h\u001b[?25l\u001b[2K\u001b[1Gpulling manifest ⠸ \u001b[?25h\u001b[?25l\u001b[2K\u001b[1Gpulling manifest ⠼ \u001b[?25h\u001b[?25l\u001b[2K\u001b[1Gpulling manifest ⠴ \u001b[?25h\u001b[?25l\u001b[2K\u001b[1Gpulling manifest \n",
      "pulling dde5aa3fc5ff... 100% ▕████████████████▏ 2.0 GB                         \n",
      "pulling 966de95ca8a6... 100% ▕████████████████▏ 1.4 KB                         \n",
      "pulling fcc5a6bec9da... 100% ▕████████████████▏ 7.7 KB                         \n",
      "pulling a70ff7e570d9... 100% ▕████████████████▏ 6.0 KB                         \n",
      "pulling 56bb8bd477a5... 100% ▕████████████████▏   96 B                         \n",
      "pulling 34bb5ab01051... 100% ▕████████████████▏  561 B                         \n",
      "verifying sha256 digest \n",
      "writing manifest \n",
      "success \u001b[?25h\n"
     ]
    }
   ],
   "source": [
    "# Let's just make sure the model is loaded\n",
    "!ollama pull llama3.2"
   ]
  },
  {
   "cell_type": "code",
   "execution_count": 2,
   "metadata": {},
   "outputs": [
    {
     "name": "stdout",
     "output_type": "stream",
     "text": [
      "\u001b[?25lpulling manifest ⠋ \u001b[?25h\u001b[?25l\u001b[2K\u001b[1Gpulling manifest ⠹ \u001b[?25h\u001b[?25l\u001b[2K\u001b[1Gpulling manifest ⠹ \u001b[?25h\u001b[?25l\u001b[2K\u001b[1Gpulling manifest ⠸ \u001b[?25h\u001b[?25l\u001b[2K\u001b[1Gpulling manifest ⠼ \u001b[?25h\u001b[?25l\u001b[2K\u001b[1Gpulling manifest ⠴ \u001b[?25h\u001b[?25l\u001b[2K\u001b[1Gpulling manifest ⠦ \u001b[?25h\u001b[?25l\u001b[2K\u001b[1Gpulling manifest ⠧ \u001b[?25h\u001b[?25l\u001b[2K\u001b[1Gpulling manifest \n",
      "pulling 96c415656d37... 100% ▕████████████████▏ 4.7 GB                         \n",
      "pulling 369ca498f347... 100% ▕████████████████▏  387 B                         \n",
      "pulling 6e4c38e1172f... 100% ▕████████████████▏ 1.1 KB                         \n",
      "pulling f4d24e9138dd... 100% ▕████████████████▏  148 B                         \n",
      "pulling 40fb844194b2... 100% ▕████████████████▏  487 B                         \n",
      "verifying sha256 digest \n",
      "writing manifest \n",
      "success \u001b[?25h\n"
     ]
    }
   ],
   "source": [
    "!ollama pull deepseek-r1"
   ]
  },
  {
   "cell_type": "code",
   "execution_count": 3,
   "metadata": {},
   "outputs": [],
   "source": [
    "import ollama"
   ]
  },
  {
   "cell_type": "code",
   "execution_count": 4,
   "metadata": {},
   "outputs": [],
   "source": [
    "# Constants for models\n",
    "llama32 = \"llama3.2\"\n",
    "deepseekr1 = \"deepseek-r1\"\n"
   ]
  },
  {
   "cell_type": "code",
   "execution_count": 5,
   "metadata": {},
   "outputs": [],
   "source": [
    "# Create a messages list following the OpenAI framework\n",
    "# user prompt to describe applications of Gen-AI\n",
    "\n",
    "messages = [\n",
    "    {\"role\": \"user\", \"content\": \"Describe some of the business applications of Generative AI specifically AI Agents\"} \n",
    "]"
   ]
  },
  {
   "cell_type": "code",
   "execution_count": 6,
   "metadata": {},
   "outputs": [
    {
     "name": "stdout",
     "output_type": "stream",
     "text": [
      "Generative AI, particularly AI agents, have numerous business applications across various industries. Here are some examples:\n",
      "\n",
      "1. **Customer Service Chatbots**: AI agents can power chatbots that provide 24/7 customer support, answering common queries, and routing complex issues to human representatives.\n",
      "2. **Content Generation**: AI agents can generate high-quality content such as product descriptions, social media posts, blog articles, and more, saving time and resources for content creation teams.\n",
      "3. **Predictive Maintenance**: AI agents can analyze sensor data from industrial equipment and predict when maintenance is required, reducing downtime and increasing overall efficiency.\n",
      "4. **Marketing Automation**: AI agents can automate marketing tasks such as lead generation, email nurturing, and ad targeting, helping businesses optimize their marketing campaigns.\n",
      "5. **Personalized Recommendations**: AI agents can analyze customer behavior and provide personalized product recommendations, improving the user experience and driving sales.\n",
      "6. **Process Automation**: AI agents can automate repetitive tasks such as data entry, document processing, and bookkeeping, freeing up staff to focus on higher-value tasks.\n",
      "7. **Supply Chain Optimization**: AI agents can optimize supply chain logistics by predicting demand, managing inventory, and identifying bottlenecks in the supply chain.\n",
      "8. **Fraud Detection**: AI agents can analyze transactions and identify suspicious patterns, helping businesses detect and prevent fraudulent activity.\n",
      "9. **Quality Control**: AI agents can inspect products on a digital platform, reducing the need for physical inspection and improving quality control processes.\n",
      "10. **Compliance Monitoring**: AI agents can monitor regulatory compliance in real-time, alerting businesses to potential issues before they become major problems.\n",
      "\n",
      "Industry-specific applications:\n",
      "\n",
      "1. **Finance**: AI agents can analyze financial data, detect fraud, and provide personalized investment advice.\n",
      "2. **Healthcare**: AI agents can analyze medical data, provide diagnosis suggestions, and optimize treatment plans.\n",
      "3. **Retail**: AI agents can analyze customer behavior, provide personalized product recommendations, and automate inventory management.\n",
      "4. **Manufacturing**: AI agents can optimize production processes, predict maintenance needs, and improve quality control.\n",
      "\n",
      "Benefits of using AI agents in business:\n",
      "\n",
      "1. **Increased Efficiency**: Automating repetitive tasks and improving process efficiency.\n",
      "2. **Improved Accuracy**: Reducing errors and improving the accuracy of tasks such as data entry and content generation.\n",
      "3. **Enhanced Customer Experience**: Providing personalized recommendations and support to customers.\n",
      "4. **Cost Savings**: Reducing costs associated with manual labor, equipment maintenance, and energy consumption.\n",
      "5. **Competitive Advantage**: Differentiating businesses from competitors through innovative use of AI agents.\n",
      "\n",
      "However, it's essential to note that AI agents also require careful consideration of factors such as data quality, bias, and accountability, to ensure effective and responsible deployment in business applications.\n"
     ]
    }
   ],
   "source": [
    "#MODEL = DEEPSEEK\n",
    "response = ollama.chat(model=llama32, messages=messages)\n",
    "print(response['message']['content'])"
   ]
  },
  {
   "cell_type": "markdown",
   "metadata": {},
   "source": [
    "### Ollama - Elevator Pitch Meeting\n",
    "---"
   ]
  },
  {
   "cell_type": "code",
   "execution_count": 57,
   "metadata": {},
   "outputs": [],
   "source": [
    "import os\n",
    "import requests\n",
    "from dotenv import load_dotenv\n",
    "from bs4 import BeautifulSoup\n",
    "from IPython.display import Markdown, display"
   ]
  },
  {
   "cell_type": "code",
   "execution_count": 58,
   "metadata": {},
   "outputs": [],
   "source": [
    "headers = {\n",
    " \"User-Agent\": \"Mozilla/5.0 (Windows NT 10.0; Win64; x64) AppleWebKit/537.36 (KHTML, like Gecko) Chrome/117.0.0.0 Safari/537.36\"\n",
    "}\n",
    "\n",
    "class Website:\n",
    "\n",
    "    def __init__(self, url):\n",
    "        \"\"\"\n",
    "        Create this Website object from the given url using the BeautifulSoup library\n",
    "        \"\"\"\n",
    "        self.url = url\n",
    "        response = requests.get(url, headers=headers)\n",
    "        soup = BeautifulSoup(response.content, 'html.parser')\n",
    "        self.title = soup.title.string if soup.title else \"No title found\"\n",
    "        for irrelevant in soup.body([\"script\", \"style\", \"img\", \"input\"]):\n",
    "            irrelevant.decompose()\n",
    "        self.text = soup.body.get_text(separator=\"\\n\", strip=True)"
   ]
  },
  {
   "cell_type": "code",
   "execution_count": 71,
   "metadata": {},
   "outputs": [],
   "source": [
    "system_prompt = \"You are an assistant at a movie studio. Your job is to take movie synopses or scripts and condense it into an elevator pitch that describes what the movie is about by reframing it within the context of well known movies or commercial IPs. Do not make things up. Respond in markdown\""
   ]
  },
  {
   "cell_type": "code",
   "execution_count": 72,
   "metadata": {},
   "outputs": [],
   "source": [
    "def user_prompt_for(website):\n",
    "    user_prompt = f\"You are looking at a website titled {website.title} which provides the detailed plot summary for a movie.\"\n",
    "    user_prompt += \"\\nPlease take the detailed plot summary and try to condense it into a snappy elevator pitch which describes the plot of the movie using plot elements from other well known movies, cultural phenomena or commercial IPs; \\\n",
    "        For example, the elevator pitch for the movie Speed (1994) is \\\"what if Die Hard (1988) happened on a bus?\\\". Ignore Spoilers.\\n\\n\"\n",
    "    user_prompt += website.text\n",
    "    return user_prompt"
   ]
  },
  {
   "cell_type": "code",
   "execution_count": 73,
   "metadata": {},
   "outputs": [],
   "source": [
    "def messages_for(website):\n",
    "    return [\n",
    "        {\"role\": \"system\", \"content\":system_prompt},\n",
    "        {\"role\":\"user\", \"content\":user_prompt_for(website)}\n",
    "    ]"
   ]
  },
  {
   "cell_type": "code",
   "execution_count": 74,
   "metadata": {},
   "outputs": [],
   "source": [
    "def pitch(url):\n",
    "    website = Website(url) # create website object\n",
    "    # Completion of ollama API call\n",
    "    response = ollama.chat(model=deepseekr1, messages=messages_for(website))\n",
    "    return response['message']['content']"
   ]
  },
  {
   "cell_type": "code",
   "execution_count": 75,
   "metadata": {},
   "outputs": [],
   "source": [
    "def display_pitch(url):\n",
    "    summary = pitch(url)\n",
    "    display(Markdown(summary))"
   ]
  },
  {
   "cell_type": "code",
   "execution_count": 77,
   "metadata": {},
   "outputs": [
    {
     "data": {
      "text/markdown": [
       "<think>\n",
       "Alright, so I need to condense this detailed plot summary into an elevator pitch that references other well-known movies or IPs. The example given was for \"Speed\" using \"Die Hard.\" Let me think about how to approach this.\n",
       "\n",
       "First, the story involves Deputy Marshal Madelyn Harris escorting a criminal named Winston to testify against a mob boss. On their plane ride, they discover a pilot who's a Hitman sent by Moretti to kill Winston. They manage to incapacitate him and fly to Anchorage for the trial.\n",
       "\n",
       "In the air, the Hitman taunts her about an incident where she was in charge of a girl who was being hunted by the cartel, leading to her demotion because she couldn't protect her. The Hitman stabs Winston twice but is killed when he hits a truck on landing. Madelyn then has to tend to Winston's wounds and realize that the mole in the FBI is her boss, Deputy Director Coleridge.\n",
       "\n",
       "I need to find references from similar genres or key elements. The action elements are present—trials, hitmen, danger. The plot involves covert ops, which ties into something like \"Ghostbusters: Frozen Empire\" since it's a mix of action and sci-fi with ghostbusting. \"John Wick: Chapter 4\" also has action and betrayals.\n",
       "\n",
       "Looking at the movie tags provided by the assistant—JOHN WICK: Chapter 4, HIT MAN, GHOSTBUSTERS: Frozen Empire, GLASS ONION, TRIANGLE OF SADNESS—it seems like GHOSTBUSTERS is a good fit because of the sci-fi elements with ghostbusting and action. The plot involves a rescue mission against mobsters, similar to how Ghostbusters deal with ghosts in space.\n",
       "\n",
       "Also, the key theme here is betrayal among law enforcement, which reminds me of \"GLASS ONION,\" but that might not be as relevant. Instead, maybe using \"Hit Man\" itself or another action thriller.\n",
       "\n",
       "Putting it all together: An action-packed rescue mission where a deputy marshal must fight a web of betrayals and danger to clear her name and expose a high-ranking mobster. The mention of GHOSTBUSTERS gives it a sci-fi twist, which aligns with the detailed plot elements provided.\n",
       "</think>\n",
       "\n",
       "An elite rescue mission in the heart of chaos, where a deputy marshal faces a web of betrayal and danger to clear her name against a high-ranking mobster. Join Deputy Marshal Madelyn Harris as she leads a daring operation to protect her loved ones while confronting a treacherous alliance that threatens everything she holds dear. This thrilling tale weaves a suspenseful narrative of sacrifice, loyalty, and justice in the face of intense danger, set against a backdrop of intrigue and danger reminiscent of a gritty action thriller with a touch of sci-fi flair."
      ],
      "text/plain": [
       "<IPython.core.display.Markdown object>"
      ]
     },
     "metadata": {},
     "output_type": "display_data"
    }
   ],
   "source": [
    "display_pitch(\"https://themoviespoiler.com/movies/flight-risk/\")"
   ]
  },
  {
   "cell_type": "code",
   "execution_count": null,
   "metadata": {},
   "outputs": [],
   "source": []
  }
 ],
 "metadata": {
  "kernelspec": {
   "display_name": "llmengg",
   "language": "python",
   "name": "python3"
  },
  "language_info": {
   "codemirror_mode": {
    "name": "ipython",
    "version": 3
   },
   "file_extension": ".py",
   "mimetype": "text/x-python",
   "name": "python",
   "nbconvert_exporter": "python",
   "pygments_lexer": "ipython3",
   "version": "3.11.11"
  }
 },
 "nbformat": 4,
 "nbformat_minor": 2
}
