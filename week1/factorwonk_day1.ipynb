{
 "cells": [
  {
   "cell_type": "code",
   "execution_count": 1,
   "id": "4e2a9393-7767-488e-a8bf-27c12dca35bd",
   "metadata": {},
   "outputs": [],
   "source": [
    "# imports\n",
    "\n",
    "import os\n",
    "import requests\n",
    "from dotenv import load_dotenv\n",
    "from bs4 import BeautifulSoup\n",
    "from IPython.display import Markdown, display\n",
    "from openai import OpenAI\n",
    "\n",
    "# If you get an error running this cell, then please head over to the troubleshooting notebook!"
   ]
  },
  {
   "cell_type": "markdown",
   "id": "6900b2a8-6384-4316-8aaa-5e519fca4254",
   "metadata": {},
   "source": [
    "# Connecting to OpenAI\n",
    "\n",
    "The next cell is where we load in the environment variables in your `.env` file and connect to OpenAI.\n",
    "\n",
    "## Troubleshooting if you have problems:\n",
    "\n",
    "Head over to the [troubleshooting](troubleshooting.ipynb) notebook in this folder for step by step code to identify the root cause and fix it!\n",
    "\n",
    "If you make a change, try restarting the \"Kernel\" (the python process sitting behind this notebook) by Kernel menu >> Restart Kernel and Clear Outputs of All Cells. Then try this notebook again, starting at the top.\n",
    "\n",
    "Or, contact me! Message me or email ed@edwarddonner.com and we will get this to work.\n",
    "\n",
    "Any concerns about API costs? See my notes in the README - costs should be minimal, and you can control it at every point. You can also use Ollama as a free alternative, which we discuss during Day 2."
   ]
  },
  {
   "cell_type": "code",
   "execution_count": 5,
   "id": "7b87cadb-d513-4303-baee-a37b6f938e4d",
   "metadata": {},
   "outputs": [
    {
     "name": "stdout",
     "output_type": "stream",
     "text": [
      "API key found and looks good so far!\n"
     ]
    }
   ],
   "source": [
    "# Load environment variables in a file called .env\n",
    "\n",
    "load_dotenv(override=True)\n",
    "api_key = os.getenv('OPENAI_API_KEY')\n",
    "\n",
    "# Check the key\n",
    "\n",
    "if not api_key:\n",
    "    print(\"No API key was found - please head over to the troubleshooting notebook in this folder to identify & fix!\")\n",
    "elif not api_key.startswith(\"sk-proj-\"):\n",
    "    print(\"An API key was found, but it doesn't start sk-proj-; please check you're using the right key - see troubleshooting notebook\")\n",
    "elif api_key.strip() != api_key:\n",
    "    print(\"An API key was found, but it looks like it might have space or tab characters at the start or end - please remove them - see troubleshooting notebook\")\n",
    "else:\n",
    "    print(\"API key found and looks good so far!\")"
   ]
  },
  {
   "cell_type": "code",
   "execution_count": 6,
   "id": "019974d9-f3ad-4a8a-b5f9-0a3719aea2d3",
   "metadata": {},
   "outputs": [],
   "source": [
    "openai = OpenAI()\n",
    "\n",
    "# If this doesn't work, try Kernel menu >> Restart Kernel and Clear Outputs Of All Cells, then run the cells from the top of this notebook down.\n",
    "# If it STILL doesn't work (horrors!) then please see the Troubleshooting notebook in this folder for full instructions"
   ]
  },
  {
   "cell_type": "markdown",
   "id": "442fc84b-0815-4f40-99ab-d9a5da6bda91",
   "metadata": {},
   "source": [
    "# Let's make a quick call to a Frontier model to get started, as a preview!"
   ]
  },
  {
   "cell_type": "code",
   "execution_count": 7,
   "id": "a58394bf-1e45-46af-9bfd-01e24da6f49a",
   "metadata": {},
   "outputs": [
    {
     "name": "stdout",
     "output_type": "stream",
     "text": [
      "Hello! Welcome! I'm glad to have you here. How can I assist you today?\n"
     ]
    }
   ],
   "source": [
    "# To give you a preview -- calling OpenAI with these messages is this easy. Any problems, head over to the Troubleshooting notebook.\n",
    "\n",
    "message = \"Hello, GPT! This is my first ever message to you! Hi!\"\n",
    "response = openai.chat.completions.create(model=\"gpt-4o-mini\", messages=[{\"role\":\"user\", \"content\":message}])\n",
    "print(response.choices[0].message.content)"
   ]
  },
  {
   "cell_type": "markdown",
   "id": "2aa190e5-cb31-456a-96cc-db109919cd78",
   "metadata": {},
   "source": [
    "## OK onwards with our first project"
   ]
  },
  {
   "cell_type": "code",
   "execution_count": 8,
   "id": "c5e793b2-6775-426a-a139-4848291d0463",
   "metadata": {},
   "outputs": [],
   "source": [
    "# A class to represent a Webpage\n",
    "# If you're not familiar with Classes, check out the \"Intermediate Python\" notebook\n",
    "\n",
    "# Some websites need you to use proper headers when fetching them:\n",
    "headers = {\n",
    " \"User-Agent\": \"Mozilla/5.0 (Windows NT 10.0; Win64; x64) AppleWebKit/537.36 (KHTML, like Gecko) Chrome/117.0.0.0 Safari/537.36\"\n",
    "}\n",
    "\n",
    "class Website:\n",
    "\n",
    "    def __init__(self, url):\n",
    "        \"\"\"\n",
    "        Create this Website object from the given url using the BeautifulSoup library\n",
    "        \"\"\"\n",
    "        self.url = url\n",
    "        response = requests.get(url, headers=headers)\n",
    "        soup = BeautifulSoup(response.content, 'html.parser')\n",
    "        self.title = soup.title.string if soup.title else \"No title found\"\n",
    "        for irrelevant in soup.body([\"script\", \"style\", \"img\", \"input\"]):\n",
    "            irrelevant.decompose()\n",
    "        self.text = soup.body.get_text(separator=\"\\n\", strip=True)"
   ]
  },
  {
   "cell_type": "code",
   "execution_count": 9,
   "id": "2ef960cf-6dc2-4cda-afb3-b38be12f4c97",
   "metadata": {},
   "outputs": [
    {
     "name": "stdout",
     "output_type": "stream",
     "text": [
      "Home - Edward Donner\n",
      "Home\n",
      "Outsmart\n",
      "An arena that pits LLMs against each other in a battle of diplomacy and deviousness\n",
      "About\n",
      "Posts\n",
      "Well, hi there.\n",
      "I’m Ed. I like writing code and experimenting with LLMs, and hopefully you’re here because you do too. I also enjoy DJing (but I’m badly out of practice), amateur electronic music production (\n",
      "very\n",
      "amateur) and losing myself in\n",
      "Hacker News\n",
      ", nodding my head sagely to things I only half understand.\n",
      "I’m the co-founder and CTO of\n",
      "Nebula.io\n",
      ". We’re applying AI to a field where it can make a massive, positive impact: helping people discover their potential and pursue their reason for being. Recruiters use our product today to source, understand, engage and manage talent. I’m previously the founder and CEO of AI startup untapt,\n",
      "acquired in 2021\n",
      ".\n",
      "We work with groundbreaking, proprietary LLMs verticalized for talent, we’ve\n",
      "patented\n",
      "our matching model, and our award-winning platform has happy customers and tons of press coverage.\n",
      "Connect\n",
      "with me for more!\n",
      "January 23, 2025\n",
      "LLM Workshop – Hands-on with Agents – resources\n",
      "December 21, 2024\n",
      "Welcome, SuperDataScientists!\n",
      "November 13, 2024\n",
      "Mastering AI and LLM Engineering – Resources\n",
      "October 16, 2024\n",
      "From Software Engineer to AI Data Scientist – resources\n",
      "Navigation\n",
      "Home\n",
      "Outsmart\n",
      "An arena that pits LLMs against each other in a battle of diplomacy and deviousness\n",
      "About\n",
      "Posts\n",
      "Get in touch\n",
      "ed [at] edwarddonner [dot] com\n",
      "www.edwarddonner.com\n",
      "Follow me\n",
      "LinkedIn\n",
      "Twitter\n",
      "Facebook\n",
      "Subscribe to newsletter\n",
      "Type your email…\n",
      "Subscribe\n"
     ]
    }
   ],
   "source": [
    "# Let's try one out. Change the website and add print statements to follow along.\n",
    "\n",
    "ed = Website(\"https://edwarddonner.com\")\n",
    "print(ed.title)\n",
    "print(ed.text)"
   ]
  },
  {
   "cell_type": "markdown",
   "id": "6a478a0c-2c53-48ff-869c-4d08199931e1",
   "metadata": {},
   "source": [
    "## Types of prompts\n",
    "\n",
    "You may know this already - but if not, you will get very familiar with it!\n",
    "\n",
    "Models like GPT4o have been trained to receive instructions in a particular way.\n",
    "\n",
    "They expect to receive:\n",
    "\n",
    "**A system prompt** that tells them what task they are performing and what tone they should use\n",
    "\n",
    "**A user prompt** -- the conversation starter that they should reply to"
   ]
  },
  {
   "cell_type": "code",
   "execution_count": 10,
   "id": "abdb8417-c5dc-44bc-9bee-2e059d162699",
   "metadata": {},
   "outputs": [],
   "source": [
    "# Define our system prompt - you can experiment with this later, changing the last sentence to 'Respond in markdown in Spanish.\"\n",
    "\n",
    "system_prompt = \"You are an assistant that analyzes the contents of a website \\\n",
    "and provides a short summary, ignoring text that might be navigation related. \\\n",
    "Respond in markdown.\""
   ]
  },
  {
   "cell_type": "code",
   "execution_count": 11,
   "id": "f0275b1b-7cfe-4f9d-abfa-7650d378da0c",
   "metadata": {},
   "outputs": [],
   "source": [
    "# A function that writes a User Prompt that asks for summaries of websites:\n",
    "\n",
    "def user_prompt_for(website):\n",
    "    user_prompt = f\"You are looking at a website titled {website.title}\"\n",
    "    user_prompt += \"\\nThe contents of this website is as follows; \\\n",
    "please provide a short summary of this website in markdown. \\\n",
    "If it includes news or announcements, then summarize these too.\\n\\n\"\n",
    "    user_prompt += website.text\n",
    "    return user_prompt"
   ]
  },
  {
   "cell_type": "code",
   "execution_count": 12,
   "id": "26448ec4-5c00-4204-baec-7df91d11ff2e",
   "metadata": {},
   "outputs": [
    {
     "name": "stdout",
     "output_type": "stream",
     "text": [
      "You are looking at a website titled Home - Edward Donner\n",
      "The contents of this website is as follows; please provide a short summary of this website in markdown. If it includes news or announcements, then summarize these too.\n",
      "\n",
      "Home\n",
      "Outsmart\n",
      "An arena that pits LLMs against each other in a battle of diplomacy and deviousness\n",
      "About\n",
      "Posts\n",
      "Well, hi there.\n",
      "I’m Ed. I like writing code and experimenting with LLMs, and hopefully you’re here because you do too. I also enjoy DJing (but I’m badly out of practice), amateur electronic music production (\n",
      "very\n",
      "amateur) and losing myself in\n",
      "Hacker News\n",
      ", nodding my head sagely to things I only half understand.\n",
      "I’m the co-founder and CTO of\n",
      "Nebula.io\n",
      ". We’re applying AI to a field where it can make a massive, positive impact: helping people discover their potential and pursue their reason for being. Recruiters use our product today to source, understand, engage and manage talent. I’m previously the founder and CEO of AI startup untapt,\n",
      "acquired in 2021\n",
      ".\n",
      "We work with groundbreaking, proprietary LLMs verticalized for talent, we’ve\n",
      "patented\n",
      "our matching model, and our award-winning platform has happy customers and tons of press coverage.\n",
      "Connect\n",
      "with me for more!\n",
      "January 23, 2025\n",
      "LLM Workshop – Hands-on with Agents – resources\n",
      "December 21, 2024\n",
      "Welcome, SuperDataScientists!\n",
      "November 13, 2024\n",
      "Mastering AI and LLM Engineering – Resources\n",
      "October 16, 2024\n",
      "From Software Engineer to AI Data Scientist – resources\n",
      "Navigation\n",
      "Home\n",
      "Outsmart\n",
      "An arena that pits LLMs against each other in a battle of diplomacy and deviousness\n",
      "About\n",
      "Posts\n",
      "Get in touch\n",
      "ed [at] edwarddonner [dot] com\n",
      "www.edwarddonner.com\n",
      "Follow me\n",
      "LinkedIn\n",
      "Twitter\n",
      "Facebook\n",
      "Subscribe to newsletter\n",
      "Type your email…\n",
      "Subscribe\n"
     ]
    }
   ],
   "source": [
    "print(user_prompt_for(ed))"
   ]
  },
  {
   "cell_type": "markdown",
   "id": "ea211b5f-28e1-4a86-8e52-c0b7677cadcc",
   "metadata": {},
   "source": [
    "## Messages\n",
    "\n",
    "The API from OpenAI expects to receive messages in a particular structure.\n",
    "Many of the other APIs share this structure:\n",
    "\n",
    "```\n",
    "[\n",
    "    {\"role\": \"system\", \"content\": \"system message goes here\"},\n",
    "    {\"role\": \"user\", \"content\": \"user message goes here\"}\n",
    "]\n",
    "\n",
    "To give you a preview, the next 2 cells make a rather simple call - we won't stretch the might GPT (yet!)"
   ]
  },
  {
   "cell_type": "code",
   "execution_count": 11,
   "id": "f25dcd35-0cd0-4235-9f64-ac37ed9eaaa5",
   "metadata": {},
   "outputs": [],
   "source": [
    "# system and user prompt defined.\n",
    "messages = [\n",
    "    {\"role\": \"system\", \"content\": \"You are a snarky assistant\"},\n",
    "    {\"role\": \"user\", \"content\": \"What is 2 + 2?\"}\n",
    "]"
   ]
  },
  {
   "cell_type": "code",
   "execution_count": 12,
   "id": "21ed95c5-7001-47de-a36d-1d6673b403ce",
   "metadata": {},
   "outputs": [
    {
     "name": "stdout",
     "output_type": "stream",
     "text": [
      "Oh, the big math mystery! It’s 4. Now, what’s next? Calculus? Or are we just warming up?\n"
     ]
    }
   ],
   "source": [
    "# To give you a preview -- calling OpenAI with system and user messages:\n",
    "\n",
    "response = openai.chat.completions.create(model=\"gpt-4o-mini\", messages=messages)\n",
    "print(response.choices[0].message.content)"
   ]
  },
  {
   "cell_type": "markdown",
   "id": "d06e8d78-ce4c-4b05-aa8e-17050c82bb47",
   "metadata": {},
   "source": [
    "## And now let's build useful messages for GPT-4o-mini, using a function"
   ]
  },
  {
   "cell_type": "code",
   "execution_count": 13,
   "id": "0134dfa4-8299-48b5-b444-f2a8c3403c88",
   "metadata": {},
   "outputs": [],
   "source": [
    "# See how this function creates exactly the format above\n",
    "\n",
    "def messages_for(website):\n",
    "    return [\n",
    "        {\"role\": \"system\", \"content\": system_prompt},\n",
    "        {\"role\": \"user\", \"content\": user_prompt_for(website)}\n",
    "    ]"
   ]
  },
  {
   "cell_type": "code",
   "execution_count": 14,
   "id": "36478464-39ee-485c-9f3f-6a4e458dbc9c",
   "metadata": {},
   "outputs": [
    {
     "data": {
      "text/plain": [
       "[{'role': 'system',\n",
       "  'content': 'You are an assistant that analyzes the contents of a website and provides a short summary, ignoring text that might be navigation related. Respond in markdown.'},\n",
       " {'role': 'user',\n",
       "  'content': 'You are looking at a website titled Home - Edward Donner\\nThe contents of this website is as follows; please provide a short summary of this website in markdown. If it includes news or announcements, then summarize these too.\\n\\nHome\\nOutsmart\\nAn arena that pits LLMs against each other in a battle of diplomacy and deviousness\\nAbout\\nPosts\\nWell, hi there.\\nI’m Ed. I like writing code and experimenting with LLMs, and hopefully you’re here because you do too. I also enjoy DJing (but I’m badly out of practice), amateur electronic music production (\\nvery\\namateur) and losing myself in\\nHacker News\\n, nodding my head sagely to things I only half understand.\\nI’m the co-founder and CTO of\\nNebula.io\\n. We’re applying AI to a field where it can make a massive, positive impact: helping people discover their potential and pursue their reason for being. Recruiters use our product today to source, understand, engage and manage talent. I’m previously the founder and CEO of AI startup untapt,\\nacquired in 2021\\n.\\nWe work with groundbreaking, proprietary LLMs verticalized for talent, we’ve\\npatented\\nour matching model, and our award-winning platform has happy customers and tons of press coverage.\\nConnect\\nwith me for more!\\nJanuary 23, 2025\\nLLM Workshop – Hands-on with Agents – resources\\nDecember 21, 2024\\nWelcome, SuperDataScientists!\\nNovember 13, 2024\\nMastering AI and LLM Engineering – Resources\\nOctober 16, 2024\\nFrom Software Engineer to AI Data Scientist – resources\\nNavigation\\nHome\\nOutsmart\\nAn arena that pits LLMs against each other in a battle of diplomacy and deviousness\\nAbout\\nPosts\\nGet in touch\\ned [at] edwarddonner [dot] com\\nwww.edwarddonner.com\\nFollow me\\nLinkedIn\\nTwitter\\nFacebook\\nSubscribe to newsletter\\nType your email…\\nSubscribe'}]"
      ]
     },
     "execution_count": 14,
     "metadata": {},
     "output_type": "execute_result"
    }
   ],
   "source": [
    "# Try this out, and then try for a few more websites\n",
    "\n",
    "messages_for(ed)"
   ]
  },
  {
   "cell_type": "markdown",
   "id": "16f49d46-bf55-4c3e-928f-68fc0bf715b0",
   "metadata": {},
   "source": [
    "## Time to bring it together - the API for OpenAI is very simple!"
   ]
  },
  {
   "cell_type": "code",
   "execution_count": 15,
   "id": "905b9919-aba7-45b5-ae65-81b3d1d78e34",
   "metadata": {},
   "outputs": [],
   "source": [
    "# And now: call the OpenAI API. You will get very familiar with this!\n",
    "\n",
    "def summarize(url):\n",
    "    website = Website(url) # create website object\n",
    "    \n",
    "    # Completions API call\n",
    "    response = openai.chat.completions.create(\n",
    "        model = \"gpt-4o-mini\",\n",
    "        messages = messages_for(website)\n",
    "    )\n",
    "    return response.choices[0].message.content"
   ]
  },
  {
   "cell_type": "code",
   "execution_count": 16,
   "id": "05e38d41-dfa4-4b20-9c96-c46ea75d9fb5",
   "metadata": {},
   "outputs": [
    {
     "data": {
      "text/plain": [
       "\"# Summary of Edward Donner's Website\\n\\nThe website is run by Ed Donner, a tech enthusiast with a focus on writing code and experimenting with Large Language Models (LLMs). He is the co-founder and CTO of Nebula.io, a company utilizing AI to enhance talent discovery and engagement. Previously, he was the founder and CEO of the AI startup untapt, which was acquired in 2021. The site also lists several resources and workshops related to LLMs and AI.\\n\\n## Recent Announcements\\n- **January 23, 2025:** LLM Workshop - Hands-on with Agents - resources\\n- **December 21, 2024:** Welcome, SuperDataScientists!\\n- **November 13, 2024:** Mastering AI and LLM Engineering - Resources\\n- **October 16, 2024:** From Software Engineer to AI Data Scientist - resources\\n\\nOverall, the website serves as a hub for Ed's work and interests in technology and AI.\""
      ]
     },
     "execution_count": 16,
     "metadata": {},
     "output_type": "execute_result"
    }
   ],
   "source": [
    "summarize(\"https://edwarddonner.com\")"
   ]
  },
  {
   "cell_type": "code",
   "execution_count": 17,
   "id": "3d926d59-450e-4609-92ba-2d6f244f1342",
   "metadata": {},
   "outputs": [],
   "source": [
    "# A function to display this nicely in the Jupyter output, using markdown\n",
    "\n",
    "def display_summary(url):\n",
    "    summary = summarize(url)\n",
    "    display(Markdown(summary))"
   ]
  },
  {
   "cell_type": "code",
   "execution_count": 18,
   "id": "3018853a-445f-41ff-9560-d925d1774b2f",
   "metadata": {},
   "outputs": [
    {
     "data": {
      "text/markdown": [
       "# Website Summary: Edward Donner\n",
       "\n",
       "Edward Donner's website serves as a personal and professional hub showcasing his interests in coding, AI, and LLMs (large language models), alongside his role as co-founder and CTO of Nebula.io. Nebula.io focuses on leveraging AI to aid talent discovery and management, offering a patented matching model and an award-winning platform.\n",
       "\n",
       "## News and Announcements\n",
       "- **January 23, 2025**: LLM Workshop – Hands-on with Agents – resources available.\n",
       "- **December 21, 2024**: Welcome message for SuperDataScientists.\n",
       "- **November 13, 2024**: Mastering AI and LLM Engineering – resources provided.\n",
       "- **October 16, 2024**: From Software Engineer to AI Data Scientist – resources shared.\n",
       "\n",
       "The website also includes personal insights and Ed's hobbies, such as DJing and music production."
      ],
      "text/plain": [
       "<IPython.core.display.Markdown object>"
      ]
     },
     "metadata": {},
     "output_type": "display_data"
    }
   ],
   "source": [
    "display_summary(\"https://edwarddonner.com\")"
   ]
  },
  {
   "cell_type": "markdown",
   "id": "b3bcf6f4-adce-45e9-97ad-d9a5d7a3a624",
   "metadata": {},
   "source": [
    "# Let's try more websites\n",
    "\n",
    "Note that this will only work on websites that can be scraped using this simplistic approach.\n",
    "\n",
    "Websites that are rendered with Javascript, like React apps, won't show up. See the community-contributions folder for a Selenium implementation that gets around this. You'll need to read up on installing Selenium (ask ChatGPT!)\n",
    "\n",
    "Also Websites protected with CloudFront (and similar) may give 403 errors - many thanks Andy J for pointing this out.\n",
    "\n",
    "But many websites will work just fine!"
   ]
  },
  {
   "cell_type": "code",
   "execution_count": 19,
   "id": "45d83403-a24c-44b5-84ac-961449b4008f",
   "metadata": {},
   "outputs": [
    {
     "data": {
      "text/markdown": [
       "# Summary of CNN Website\n",
       "\n",
       "CNN's website serves as a comprehensive news platform offering the latest updates across various topics including US and world news, politics, business, health, entertainment, science, and sports. The site features breaking news stories and in-depth analyses with a focus on significant ongoing events such as the **Ukraine-Russia War** and the **Israel-Hamas War**.\n",
       "\n",
       "## Key Updates:\n",
       "- **Trump Administration:** Ongoing discussions surrounding Trump’s immigration policies and a settlement agreement with Meta.\n",
       "- **Legal Developments:** Former Senator Bob Menendez has been sentenced to 11 years for a corruption and bribery case.\n",
       "- **Current Events:** Reports on growing unrest in Congo amid government conflicts and Israel's announcement of hostage releases.\n",
       "- **Space & Science News:** Highlights include a historic asteroid sample, discoveries related to extraterrestrial origins, and insight into potential changes in space exploration.\n",
       "- **Health & Wellness:** Features articles discussing the impact of social media on eating habits and recent studies on marijuana use and memory skills.\n",
       "\n",
       "The site is structured to keep users informed through live updates, video segments, and analyses on trending topics, making it a critical resource for anyone looking to stay informed about current events globally."
      ],
      "text/plain": [
       "<IPython.core.display.Markdown object>"
      ]
     },
     "metadata": {},
     "output_type": "display_data"
    }
   ],
   "source": [
    "display_summary(\"https://cnn.com\")"
   ]
  },
  {
   "cell_type": "code",
   "execution_count": 20,
   "id": "75e9fd40-b354-4341-991e-863ef2e59db7",
   "metadata": {},
   "outputs": [
    {
     "data": {
      "text/markdown": [
       "# Anthropic Website Summary\n",
       "\n",
       "Anthropic focuses on AI research and development, emphasizing safety and alignment in artificial intelligence. The website highlights their flagship AI model, **Claude 3.5 Sonnet**, which is described as their most advanced model, now available for use. \n",
       "\n",
       "## Key Announcements\n",
       "- **Claude 3.5 Sonnet Release**: The latest model designed for various applications.\n",
       "- **Introduction of Computer Use**: Announcement regarding new features or capabilities for the Claude 3.5 Sonnet and the upcoming **Claude 3.5 Haiku**, dated **October 22, 2024**.\n",
       "- **AI Safety Research**: Publications discussing the importance of AI safety and alignment, including notable works like **\"Constitutional AI: Harmlessness from AI Feedback\"** (December 15, 2022) and **\"Core Views on AI Safety: When, Why, What, and How\"** (March 8, 2023).\n",
       "\n",
       "The website invites users to explore commercial applications of AI through the **Claude API** and details how organizations can partner with Anthropic for AI solutions. Additionally, it presents career opportunities for those interested in contributing to their mission of developing safe AI systems."
      ],
      "text/plain": [
       "<IPython.core.display.Markdown object>"
      ]
     },
     "metadata": {},
     "output_type": "display_data"
    }
   ],
   "source": [
    "display_summary(\"https://anthropic.com\")"
   ]
  },
  {
   "cell_type": "code",
   "execution_count": 21,
   "id": "f10b3447-b262-4437-bc90-fda8b1d71a62",
   "metadata": {},
   "outputs": [
    {
     "data": {
      "text/markdown": [
       "# Summary of Tomoro.ai\n",
       "\n",
       "Tomoro.ai is a company dedicated to helping businesses leverage generative AI for competitive advantage, emphasizing the transition from traditional digital solutions to advanced AI capabilities. Their approach includes:\n",
       "\n",
       "## Core Offerings\n",
       "\n",
       "- **Alliance**: Partnering with clients to integrate AI deeply into their operations.\n",
       "- **Strategy**: Providing targeted engagements that assist clients in developing a solid AI vision, architecture, and actionable prototypes.\n",
       "- **Solutions**: Developing custom AI agents that enhance knowledge management, customer service, and other innovative applications.\n",
       "- **Scale**: Creating enterprise-grade AI components and collaborating with clients to accelerate the journey from ideas to scalable AI solutions.\n",
       "\n",
       "## Autonomous AI Agents\n",
       "\n",
       "Tomoro.ai defines autonomous AI agents as advanced collaborative solutions that operate independently, using intent-based instruction. These agents are designed to enhance business productivity by continuously learning and adapting to their environments, working alongside human teams.\n",
       "\n",
       "## Client Engagement\n",
       "\n",
       "The company is seeking to partner with a select number of ambitious clients who are interested in exploring these advanced AI capabilities.\n",
       "\n",
       "For more information or to inquire about potential collaboration, interested parties can contact Tomoro.ai through a submission form on their website."
      ],
      "text/plain": [
       "<IPython.core.display.Markdown object>"
      ]
     },
     "metadata": {},
     "output_type": "display_data"
    }
   ],
   "source": [
    "display_summary(\"https://tomoro.ai/\")"
   ]
  },
  {
   "cell_type": "markdown",
   "id": "c951be1a-7f1b-448f-af1f-845978e47e2c",
   "metadata": {},
   "source": [
    "<table style=\"margin: 0; text-align: left;\">\n",
    "    <tr>\n",
    "        <td style=\"width: 150px; height: 150px; vertical-align: middle;\">\n",
    "            <img src=\"../business.jpg\" width=\"150\" height=\"150\" style=\"display: block;\" />\n",
    "        </td>\n",
    "        <td>\n",
    "            <h2 style=\"color:#181;\">Business applications</h2>\n",
    "            <span style=\"color:#181;\">In this exercise, you experienced calling the Cloud API of a Frontier Model (a leading model at the frontier of AI) for the first time. We will be using APIs like OpenAI at many stages in the course, in addition to building our own LLMs.\n",
    "\n",
    "More specifically, we've applied this to Summarization - a classic Gen AI use case to make a summary. This can be applied to any business vertical - summarizing the news, summarizing financial performance, summarizing a resume in a cover letter - the applications are limitless. Consider how you could apply Summarization in your business, and try prototyping a solution.</span>\n",
    "        </td>\n",
    "    </tr>\n",
    "</table>\n",
    "\n",
    "<table style=\"margin: 0; text-align: left;\">\n",
    "    <tr>\n",
    "        <td style=\"width: 150px; height: 150px; vertical-align: middle;\">\n",
    "            <img src=\"../important.jpg\" width=\"150\" height=\"150\" style=\"display: block;\" />\n",
    "        </td>\n",
    "        <td>\n",
    "            <h2 style=\"color:#900;\">Before you continue - now try yourself</h2>\n",
    "            <span style=\"color:#900;\">Use the cell below to make your own simple commercial example. Stick with the summarization use case for now. Here's an idea: write something that will take the contents of an email, and will suggest an appropriate short subject line for the email. That's the kind of feature that might be built into a commercial email tool.</span>\n",
    "        </td>\n",
    "    </tr>\n",
    "</table>"
   ]
  },
  {
   "cell_type": "markdown",
   "id": "b5c430f3",
   "metadata": {},
   "source": [
    "---\n",
    "# Elevator Pitch Meeting"
   ]
  },
  {
   "cell_type": "code",
   "execution_count": null,
   "id": "c5d2b4eb",
   "metadata": {},
   "outputs": [],
   "source": [
    "def user_prompt_for(website):\n",
    "    user_prompt = f\"You are looking at a website titled {website.title}\"\n",
    "    user_prompt += \"\\nThe contents of this website is as follows; \\\n",
    "please provide a short summary of this website in markdown. \\\n",
    "If it includes news or announcements, then summarize these too.\\n\\n\"\n",
    "    user_prompt += website.text\n",
    "    return user_prompt"
   ]
  },
  {
   "cell_type": "code",
   "execution_count": 13,
   "id": "9c9604b2",
   "metadata": {},
   "outputs": [],
   "source": [
    "# Step 1: Create your prompts\n",
    "\n",
    "system_prompt = \"You are an assistant at a movie studio. Your job is to take movie synopses or scripts and condense them into an elevator pitch that succintly describes what the movie is about by reframing it within the context of well known movies or commercial IPs. Respond in markdown/\""
   ]
  },
  {
   "cell_type": "code",
   "execution_count": 14,
   "id": "c767003d",
   "metadata": {},
   "outputs": [],
   "source": [
    "def user_prompt_for(website):\n",
    "    user_prompt = f\"You are looking at a website titled {website.title} which provides the synopsis for a movie\"\n",
    "    user_prompt += \"\\nThe contents of this website is as follows; \\\n",
    "please provide a short summary of this website in markdown as well as a recontextualisation of the synopsis in the form of an elevator pitch.\\n\\n\"\n",
    "    user_prompt += website.text\n",
    "    return user_prompt"
   ]
  },
  {
   "cell_type": "code",
   "execution_count": 15,
   "id": "bbf4a42f",
   "metadata": {},
   "outputs": [],
   "source": [
    "def messages_for(website):\n",
    "    return [\n",
    "        {\"role\": \"system\", \"content\": system_prompt},\n",
    "        {\"role\": \"user\", \"content\": user_prompt_for(website)}\n",
    "    ]"
   ]
  },
  {
   "cell_type": "code",
   "execution_count": 16,
   "id": "adaa4574",
   "metadata": {},
   "outputs": [],
   "source": [
    "spoiler = Website(\"https://themoviespoiler.com/movies/mufasa-the-lion-king/\")"
   ]
  },
  {
   "cell_type": "code",
   "execution_count": 17,
   "id": "f0d9e8e0",
   "metadata": {},
   "outputs": [
    {
     "name": "stdout",
     "output_type": "stream",
     "text": [
      "MUFASA: The Lion King – The Movie Spoiler\n",
      "Skip to content\n",
      "Your guide to the latest plot twists and surprise endings, now playing at a theater near you!\n",
      "Primary Menu\n",
      "Freestar Test Page\n",
      "MUFASA: The Lion King\n",
      "*CUT TO THE CHASE*\n",
      "NOTE: This spoiler was submitted by\n",
      "Jeremy\n",
      "The film opens with the voice of the elder Mufasa telling Simba about the Circle of Life, followed by the words: “In Remembrance of James Earl Jones”.\n",
      "In the kingdom of Pride Rock, Simba (Donald Glover) addresses his subjects, announcing that something great is coming (“Ngomoso”). He calls out to Nala (Beyonce Knowles-Carter), who is waiting for Simba in an oasis.\n",
      "Simba leaves his daughter Kiara (Blue Ivy Carter) in the care of Timon and Pumbaa (Billy Eichner and Seth Rogen), but he tells them not to tell Kiara any wild stories. Soon as Simba leaves, they do just that by recounting the Battle of Pride Rock, except Timon and Pumbaa pretend that they were the ones who defeated Scar (and ate him). Rafiki (John Kani) arrives to tell Kiara a different story, one about her grandfather.\n",
      "As a cub, Mufasa (Braelyn and Brielle Rankins) lives with his mother Afia (Anika Noni Rose) and father Masego (Keith David) in a small area with other animals. Afia tells Mufasa about “milele” (“eternity”), a paradise that they might one day call home (“Milele”). It begins to rain, and while the animals rejoice after a drought, the water levels begin to rise, leading to a flood that starts to sweep everyone away. Masego rushes to save Mufasa, but an elephant crashes into a dam, causing Mufasa to be swept away from his parents.\n",
      "Mufasa spends days floating on a log until he comes upon a river and sees another cub, Taka (Theo Somolu). Two crocodiles attempt to grab Mufasa, but Taka pulls him out of the river. They are found by Taka’s mother, Eshe (Thandiwe Newton), who scolds Taka for associating with someone viewed as a stray, but Taka convinces Eshe to let Mufasa follow them back home.\n",
      "When they return to Taka’s home, Mufasa is met by Taka’s father, Obasi (Lennie James), who immediately insults Mufasa for being an outsider. Eshe stands up for Mufasa, but Obasi tells them that he must race Taka to the Dead Tree and win in order to stay, or else Obasi will eat him. Seeing that Mufasa is lagging behind, Taka lets him win so he can stay, but Mufasa is made to stay with Eshe and the other females. Taka, meanwhile, is happy to have someone like Mufasa since he has always wanted a brother (“I Always Wanted a Brother”).\n",
      "Years pass, and Mufasa (Aaron Pierre) and Taka (Kelvin Harrison, Jr) have become inseparable. Obasi still looks down upon Mufasa and tells Taka that he will eventually betray him and compromise his chance to succeed him as king of the pride. Mufasa remains close to Eshe, who has come to view him as a son, but he still longs to reunite with his real parents.\n",
      "Later, the pride is attacked by two white lions belonging to a group known only as “The Outsiders”. Mufasa rushes in to defend Eshe, while Taka panics and flees. Mufasa also battles one of the lions, Sachu, and fatally wounds him, while the other lion retreats. Taka is ashamed of himself for running away, but Obasi finally shows Mufasa respect for saving Eshe. Obasi sends a scout to track down the Outsiders, and the scout finds the retreating lion going to his leader, Kiros (Mads Mikkelsen), who rules with his two sisters, Akua (Joanna Jones) and Amara (Folake Olowofoyeku). Kiros is enraged to learn that the lion left Sachu, his son, for dead, and he has the other lions tear the surviving lion apart. The scout goes back to warn Obasi that the Outsiders have two lions for every one of them, and that they are heading their way.\n",
      "The next day, Kiros and his lions show up to attack Obasi and his pride (“Bye Bye”), forcing Mufasa and Taka to flee. They go over a waterfall to safety, but another white lion jumps in after them. The two manage to escape safely and start to move on their own to find “Milele”. On their journey, they are found by a lioness, Sarabi (Tiffany Boone), who was quietly tracking them. They are joined by Sarabi’s personal scout, Zazu (Preston Nyman). Nearby, a younger Rafiki (Kasigo Lediga) is exiled from his community with the other monkeys due to his supposed visions. One of his friends, Junia (Thuso Mbedu), is sad to see him go, but Rafiki is hopeful for what comes next.\n",
      "Rafiki encounters the lions and Zazu, joining them on their quest to find Milele, after the lions try to eat him. Mufasa later talks to Rafiki since he doesn’t immediately trust the mandrill, but they come to an understanding since Rafiki seems to know what Mufasa has been going through. Mufasa starts to lead the group toward Milele (“We Go Together”), while Kiros and the Outsiders start to track their scent after killing off Obasi, Eshe, and the rest of their pride.\n",
      "Taka expresses a romantic interest in Sarabi, but he asks Mufasa for advice because he has not spent time around females as much as he did growing up. Mufasa tries to give him some words, such as pointing out the scent of flowers that she carries, but Taka ends up being awkward around Sarabi. Zazu soon spots the Outsiders coming for them, so Sarabi causes an elephant stampede by throwing a beehive onto the ground. She gets knocked over and is nearly trampled until Mufasa shields her body. After evading the Outsiders and surviving the stampede, Mufasa tries to give Taka the credit for saving Sarabi.\n",
      "The group goes to hide out at some snowy mountains. They cover their tracks to ensure the Outsiders cannot locate them. At night, Sarabi tells Mufasa she knows it was him who saved her, as well as knowing the flowers of the land she originates from. They start to fall in love (“Tell Me It’s You”), but Taka sees this and feels betrayed by Mufasa (“Brother Betrayed”). He locates Kiros and the Outsiders and forms an alliance with them to bring Mufasa down.\n",
      "The group eventually makes it to Milele, which is just as beautiful as Mufasa imagined it would be. Unfortunately, Kiros and the Outsiders have tracked them down thanks to Taka leaving clues behind. Mufasa learns Taka is responsible, with his justification being that Mufasa has taken everything that was meant for him (his chance to be king and Sarabi). After a brief scuffle with Kiros, Mufasa goes to rally the other animals in the valley to stand together in the face of adversity, even though some of them blame him for bringing the Outsiders to their land.\n",
      "Mufasa falls down into a cave, where Kiros goes after him. The other lionesses, led by Sarabi, fight back against the Outsiders. Taka finds Mufasa and Kiros, then jumps in to take a swipe meant for Mufasa, causing Kiros to slash his face and give Taka his iconic scar. Just as Akua and Amara prepare to go for the kill, the rock they are standing on begins to collapse and crumble due to the larger animals charging all over the place, sending the Outsiders plummeting to their deaths (and also forming what is now Pride Rock). Mufasa and Kiros fall into the water, but Kiros is crushed by a falling boulder and dragged further into the water. Mufasa swims up, and Taka considers letting Mufasa drown (a pre-“long live the king” moment), but he pulls him up.\n",
      "The other animals come to view Mufasa as their king, even though he initially declines the opportunity and doesn’t see himself as a leader. Rafiki convinces him that he brought the animals together, and they bow to him in respect. Zazu orders Mufasa to banish Taka, but Mufasa chooses to forgive him, though he refuses to call Taka by his name. He decides to go by “Scar” as a reminder of his crimes. Moments later, Mufasa is reunited with Afia, though she confirms that Masego is no longer living. Mufasa, now with a new family, ascends to Pride Rock and lets out a mighty roar.\n",
      "Rafiki finishes the story in the present day (which Timon and Pumbaa have some “notes” for since they were barely in the story). Kiara tells Rafiki she wishes she met Mufasa, but he tells her that Mufasa lives within her. She looks up to the sky and starts roaring, just as Mufasa’s face appears in the clouds and seems to roar back. Simba and Nala come home to Kiara with their new cub, her brother Kion. Kiara then proceeds to tell her brother the story of a great king.\n",
      "Related Movies:\n",
      "BEAST\n",
      "WISH\n",
      "PETER PAN & WENDY\n",
      "PEARL\n",
      "CYRANO\n",
      "*CUT TO THE CHASE*\n",
      "Brought to you by\n",
      "While Simba and Nala are away for a personal matter, their daughter Kiara is put in the care of Timon, Pumbaa, and Rafiki. The wise old mandrill begins to tell Kiara the story of how her grandfather became a legendary king.\n",
      "As a cub, Mufasa is separated from his parents after a flood, and he comes into the care of a young cub prince named Taka, and his mother Eshe. Taka's father, King Obasi, despises Mufasa for being a stray and potentially compromising Taka's path to becoming king. However, Mufasa and Taka quickly become brothers. When they get older, their pride is attacked by a group called the Outsiders. Their leader, Kiros, seeks revenge against Mufasa for killing his son Sachu when he and another Outsider attacked the pride. The Outsiders kill Obasi and his pride while Mufasa and Taka escape.\n",
      "On their journey to a paradise called \"Milele\", they meet Sarabi, Zazu, and Rafiki, who join their quest. Taka falls for Sarabi, but she starts to develop feelings for Mufasa after saving her life during a stampede caused to get the Outsiders off their trail. Taka sees this as a betrayal and goes to Kiros to team up to take down Mufasa.\n",
      "The group makes it to Milele, but Kiros and the Outsiders attack. Mufasa rallies the other animals together in the fight against the Outsiders. Mufasa battles Kiros, while the animals cause an earthquake that kills the Outsiders and forms Pride Rock. Kiros is sent to his watery grave after a large boulder falls on him, while Taka pulls Mufasa out of the water after experiencing regret for his betrayal. Mufasa becomes king and reunites with his mother Afia (but his father didn't make it), and while he forgives Taka for his betrayal, he no longer chooses to call him by that name, so Taka dubs himself \"Scar\". Mufasa stands before the animals in the kingdom and lets out a mighty roar.\n",
      "When the story finishes, Kiara sees Mufasa's face in the clouds roaring to her. Simba and Nala return home with their new cub, Kion, and Kiara proceeds to tell her new brother the story of their grandfather.\n",
      "Looking for Something Specific?\n",
      "Use the Search Bar or \"Tag Cloud\" below\n",
      "to find an interesting spoiler!\n",
      "Warning: You may lose the entire afternoon reading old spoilers!\n",
      "Search for:\n",
      "Genres\n",
      "Action\n",
      "Adventure\n",
      "Animation\n",
      "Biography\n",
      "Comedy\n",
      "Crime\n",
      "DC\n",
      "Disney\n",
      "Drama\n",
      "Family\n",
      "Fantasy\n",
      "Graphic Novel\n",
      "Horror\n",
      "Marvel\n",
      "Music\n",
      "Musical\n",
      "Mystery\n",
      "Romance\n",
      "Sci-Fi\n",
      "Thriller\n",
      "War\n",
      "Boxoffice results provided by:\n",
      "Boxofficemojo.com\n",
      "For \"quickie spoilers,\" check out..\n",
      "moviepooper.com\n",
      "AMC THEATERS\n",
      "-\n",
      "LOEWS CINEPLEX\n",
      "-\n",
      "REGAL CINEMAS\n",
      "-\n",
      "CENTURY THEATERS\n",
      "*SPOILER REQUEST*\n",
      "Help keep the spoilers up to date by sending your submissions\n",
      "here\n",
      ".\n",
      "PRIVACY POLICY\n"
     ]
    }
   ],
   "source": [
    "print(spoiler.title)\n",
    "print(spoiler.text)"
   ]
  },
  {
   "cell_type": "code",
   "execution_count": 18,
   "id": "34a1e5c4",
   "metadata": {},
   "outputs": [
    {
     "data": {
      "text/plain": [
       "[{'role': 'system',\n",
       "  'content': 'You are an assistant at a movie studio. Your job is to take movie synopses or scripts and condense them into an elevator pitch that succintly describes what the movie is about by reframing it within the context of well known movies or commercial IPs. Respond in markdown/'},\n",
       " {'role': 'user',\n",
       "  'content': 'You are looking at a website titled MUFASA: The Lion King – The Movie Spoiler\\nThe contents of this website is as follows; please provide a short summary of this website in markdown as well as a recontextualisation of the synopsis in the form of an elevator pitch.\\n\\nSkip to content\\nYour guide to the latest plot twists and surprise endings, now playing at a theater near you!\\nPrimary Menu\\nFreestar Test Page\\nMUFASA: The Lion King\\n*CUT TO THE CHASE*\\nNOTE: This spoiler was submitted by\\nJeremy\\nThe film opens with the voice of the elder Mufasa telling Simba about the Circle of Life, followed by the words: “In Remembrance of James Earl Jones”.\\nIn the kingdom of Pride Rock, Simba (Donald Glover) addresses his subjects, announcing that something great is coming (“Ngomoso”). He calls out to Nala (Beyonce Knowles-Carter), who is waiting for Simba in an oasis.\\nSimba leaves his daughter Kiara (Blue Ivy Carter) in the care of Timon and Pumbaa (Billy Eichner and Seth Rogen), but he tells them not to tell Kiara any wild stories. Soon as Simba leaves, they do just that by recounting the Battle of Pride Rock, except Timon and Pumbaa pretend that they were the ones who defeated Scar (and ate him). Rafiki (John Kani) arrives to tell Kiara a different story, one about her grandfather.\\nAs a cub, Mufasa (Braelyn and Brielle Rankins) lives with his mother Afia (Anika Noni Rose) and father Masego (Keith David) in a small area with other animals. Afia tells Mufasa about “milele” (“eternity”), a paradise that they might one day call home (“Milele”). It begins to rain, and while the animals rejoice after a drought, the water levels begin to rise, leading to a flood that starts to sweep everyone away. Masego rushes to save Mufasa, but an elephant crashes into a dam, causing Mufasa to be swept away from his parents.\\nMufasa spends days floating on a log until he comes upon a river and sees another cub, Taka (Theo Somolu). Two crocodiles attempt to grab Mufasa, but Taka pulls him out of the river. They are found by Taka’s mother, Eshe (Thandiwe Newton), who scolds Taka for associating with someone viewed as a stray, but Taka convinces Eshe to let Mufasa follow them back home.\\nWhen they return to Taka’s home, Mufasa is met by Taka’s father, Obasi (Lennie James), who immediately insults Mufasa for being an outsider. Eshe stands up for Mufasa, but Obasi tells them that he must race Taka to the Dead Tree and win in order to stay, or else Obasi will eat him. Seeing that Mufasa is lagging behind, Taka lets him win so he can stay, but Mufasa is made to stay with Eshe and the other females. Taka, meanwhile, is happy to have someone like Mufasa since he has always wanted a brother (“I Always Wanted a Brother”).\\nYears pass, and Mufasa (Aaron Pierre) and Taka (Kelvin Harrison, Jr) have become inseparable. Obasi still looks down upon Mufasa and tells Taka that he will eventually betray him and compromise his chance to succeed him as king of the pride. Mufasa remains close to Eshe, who has come to view him as a son, but he still longs to reunite with his real parents.\\nLater, the pride is attacked by two white lions belonging to a group known only as “The Outsiders”. Mufasa rushes in to defend Eshe, while Taka panics and flees. Mufasa also battles one of the lions, Sachu, and fatally wounds him, while the other lion retreats. Taka is ashamed of himself for running away, but Obasi finally shows Mufasa respect for saving Eshe. Obasi sends a scout to track down the Outsiders, and the scout finds the retreating lion going to his leader, Kiros (Mads Mikkelsen), who rules with his two sisters, Akua (Joanna Jones) and Amara (Folake Olowofoyeku). Kiros is enraged to learn that the lion left Sachu, his son, for dead, and he has the other lions tear the surviving lion apart. The scout goes back to warn Obasi that the Outsiders have two lions for every one of them, and that they are heading their way.\\nThe next day, Kiros and his lions show up to attack Obasi and his pride (“Bye Bye”), forcing Mufasa and Taka to flee. They go over a waterfall to safety, but another white lion jumps in after them. The two manage to escape safely and start to move on their own to find “Milele”. On their journey, they are found by a lioness, Sarabi (Tiffany Boone), who was quietly tracking them. They are joined by Sarabi’s personal scout, Zazu (Preston Nyman). Nearby, a younger Rafiki (Kasigo Lediga) is exiled from his community with the other monkeys due to his supposed visions. One of his friends, Junia (Thuso Mbedu), is sad to see him go, but Rafiki is hopeful for what comes next.\\nRafiki encounters the lions and Zazu, joining them on their quest to find Milele, after the lions try to eat him. Mufasa later talks to Rafiki since he doesn’t immediately trust the mandrill, but they come to an understanding since Rafiki seems to know what Mufasa has been going through. Mufasa starts to lead the group toward Milele (“We Go Together”), while Kiros and the Outsiders start to track their scent after killing off Obasi, Eshe, and the rest of their pride.\\nTaka expresses a romantic interest in Sarabi, but he asks Mufasa for advice because he has not spent time around females as much as he did growing up. Mufasa tries to give him some words, such as pointing out the scent of flowers that she carries, but Taka ends up being awkward around Sarabi. Zazu soon spots the Outsiders coming for them, so Sarabi causes an elephant stampede by throwing a beehive onto the ground. She gets knocked over and is nearly trampled until Mufasa shields her body. After evading the Outsiders and surviving the stampede, Mufasa tries to give Taka the credit for saving Sarabi.\\nThe group goes to hide out at some snowy mountains. They cover their tracks to ensure the Outsiders cannot locate them. At night, Sarabi tells Mufasa she knows it was him who saved her, as well as knowing the flowers of the land she originates from. They start to fall in love (“Tell Me It’s You”), but Taka sees this and feels betrayed by Mufasa (“Brother Betrayed”). He locates Kiros and the Outsiders and forms an alliance with them to bring Mufasa down.\\nThe group eventually makes it to Milele, which is just as beautiful as Mufasa imagined it would be. Unfortunately, Kiros and the Outsiders have tracked them down thanks to Taka leaving clues behind. Mufasa learns Taka is responsible, with his justification being that Mufasa has taken everything that was meant for him (his chance to be king and Sarabi). After a brief scuffle with Kiros, Mufasa goes to rally the other animals in the valley to stand together in the face of adversity, even though some of them blame him for bringing the Outsiders to their land.\\nMufasa falls down into a cave, where Kiros goes after him. The other lionesses, led by Sarabi, fight back against the Outsiders. Taka finds Mufasa and Kiros, then jumps in to take a swipe meant for Mufasa, causing Kiros to slash his face and give Taka his iconic scar. Just as Akua and Amara prepare to go for the kill, the rock they are standing on begins to collapse and crumble due to the larger animals charging all over the place, sending the Outsiders plummeting to their deaths (and also forming what is now Pride Rock). Mufasa and Kiros fall into the water, but Kiros is crushed by a falling boulder and dragged further into the water. Mufasa swims up, and Taka considers letting Mufasa drown (a pre-“long live the king” moment), but he pulls him up.\\nThe other animals come to view Mufasa as their king, even though he initially declines the opportunity and doesn’t see himself as a leader. Rafiki convinces him that he brought the animals together, and they bow to him in respect. Zazu orders Mufasa to banish Taka, but Mufasa chooses to forgive him, though he refuses to call Taka by his name. He decides to go by “Scar” as a reminder of his crimes. Moments later, Mufasa is reunited with Afia, though she confirms that Masego is no longer living. Mufasa, now with a new family, ascends to Pride Rock and lets out a mighty roar.\\nRafiki finishes the story in the present day (which Timon and Pumbaa have some “notes” for since they were barely in the story). Kiara tells Rafiki she wishes she met Mufasa, but he tells her that Mufasa lives within her. She looks up to the sky and starts roaring, just as Mufasa’s face appears in the clouds and seems to roar back. Simba and Nala come home to Kiara with their new cub, her brother Kion. Kiara then proceeds to tell her brother the story of a great king.\\nRelated Movies:\\nBEAST\\nWISH\\nPETER PAN & WENDY\\nPEARL\\nCYRANO\\n*CUT TO THE CHASE*\\nBrought to you by\\nWhile Simba and Nala are away for a personal matter, their daughter Kiara is put in the care of Timon, Pumbaa, and Rafiki. The wise old mandrill begins to tell Kiara the story of how her grandfather became a legendary king.\\nAs a cub, Mufasa is separated from his parents after a flood, and he comes into the care of a young cub prince named Taka, and his mother Eshe. Taka\\'s father, King Obasi, despises Mufasa for being a stray and potentially compromising Taka\\'s path to becoming king. However, Mufasa and Taka quickly become brothers. When they get older, their pride is attacked by a group called the Outsiders. Their leader, Kiros, seeks revenge against Mufasa for killing his son Sachu when he and another Outsider attacked the pride. The Outsiders kill Obasi and his pride while Mufasa and Taka escape.\\nOn their journey to a paradise called \"Milele\", they meet Sarabi, Zazu, and Rafiki, who join their quest. Taka falls for Sarabi, but she starts to develop feelings for Mufasa after saving her life during a stampede caused to get the Outsiders off their trail. Taka sees this as a betrayal and goes to Kiros to team up to take down Mufasa.\\nThe group makes it to Milele, but Kiros and the Outsiders attack. Mufasa rallies the other animals together in the fight against the Outsiders. Mufasa battles Kiros, while the animals cause an earthquake that kills the Outsiders and forms Pride Rock. Kiros is sent to his watery grave after a large boulder falls on him, while Taka pulls Mufasa out of the water after experiencing regret for his betrayal. Mufasa becomes king and reunites with his mother Afia (but his father didn\\'t make it), and while he forgives Taka for his betrayal, he no longer chooses to call him by that name, so Taka dubs himself \"Scar\". Mufasa stands before the animals in the kingdom and lets out a mighty roar.\\nWhen the story finishes, Kiara sees Mufasa\\'s face in the clouds roaring to her. Simba and Nala return home with their new cub, Kion, and Kiara proceeds to tell her new brother the story of their grandfather.\\nLooking for Something Specific?\\nUse the Search Bar or \"Tag Cloud\" below\\nto find an interesting spoiler!\\nWarning: You may lose the entire afternoon reading old spoilers!\\nSearch for:\\nGenres\\nAction\\nAdventure\\nAnimation\\nBiography\\nComedy\\nCrime\\nDC\\nDisney\\nDrama\\nFamily\\nFantasy\\nGraphic Novel\\nHorror\\nMarvel\\nMusic\\nMusical\\nMystery\\nRomance\\nSci-Fi\\nThriller\\nWar\\nBoxoffice results provided by:\\nBoxofficemojo.com\\nFor \"quickie spoilers,\" check out..\\nmoviepooper.com\\nAMC THEATERS\\n-\\nLOEWS CINEPLEX\\n-\\nREGAL CINEMAS\\n-\\nCENTURY THEATERS\\n*SPOILER REQUEST*\\nHelp keep the spoilers up to date by sending your submissions\\nhere\\n.\\nPRIVACY POLICY'}]"
      ]
     },
     "execution_count": 18,
     "metadata": {},
     "output_type": "execute_result"
    }
   ],
   "source": [
    "messages_for(spoiler)"
   ]
  },
  {
   "cell_type": "code",
   "execution_count": 19,
   "id": "1ee40fe5",
   "metadata": {},
   "outputs": [],
   "source": [
    "# And now: call the OpenAI API. You will get very familiar with this!\n",
    "\n",
    "def summarize(url):\n",
    "    website = Website(url) # create website object\n",
    "    \n",
    "    # Completions API call\n",
    "    response = openai.chat.completions.create(\n",
    "        model = \"gpt-4o-mini\",\n",
    "        messages = messages_for(website)\n",
    "    )\n",
    "    return response.choices[0].message.content"
   ]
  },
  {
   "cell_type": "code",
   "execution_count": 20,
   "id": "514f1a25",
   "metadata": {},
   "outputs": [
    {
     "data": {
      "text/plain": [
       "'# Website Summary: MUFASA: The Lion King – The Movie Spoiler\\n\\nThe website provides a detailed synopsis of the upcoming movie \"Mufasa: The Lion King.\" The story unfolds through the narration of elder Mufasa to his grandson Kiara, recounting the formative tales of Mufasa\\'s youth, his friendships, and challenges in the animal kingdom. The film follows Mufasa’s journey from being separated from his parents due to a flood to becoming king, including his bonds with Taka (later known as Scar) and Sarabi, as well as the external threat posed by the Outsiders led by Kiros. The narrative integrates the themes of family, betrayal, and destiny, culminating in Mufasa\\'s rise to kingship. \\n\\n# Elevator Pitch\\n\\nImagine *The Jungle Book* meets *The Godfather* — in \"Mufasa: The Lion King,\" we delve into the origins of the legendary Lion King, Mufasa, as he faces betrayal from his own brother, Taka, against the backdrop of a fierce rivalry with the Outsiders. This epic tale of loyalty, love, and the struggle for power reveals how an outsider rises from tragedy to reclaim his place as king while grappling with familial bonds that threaten to tear him apart. Roaring with adventure and packed with emotional depth, it\\'s the ultimate origin story for one of Disney’s most iconic characters.'"
      ]
     },
     "execution_count": 20,
     "metadata": {},
     "output_type": "execute_result"
    }
   ],
   "source": [
    "summarize(\"https://themoviespoiler.com/movies/mufasa-the-lion-king/\")"
   ]
  },
  {
   "cell_type": "code",
   "execution_count": 21,
   "id": "263d7ef7",
   "metadata": {},
   "outputs": [],
   "source": [
    "def display_summary(url):\n",
    "    summary = summarize(url)\n",
    "    display(Markdown(summary))"
   ]
  },
  {
   "cell_type": "code",
   "execution_count": 23,
   "id": "80713b76",
   "metadata": {},
   "outputs": [
    {
     "data": {
      "text/markdown": [
       "# MUFASA: The Lion King - Movie Spoiler Summary\n",
       "\n",
       "This website provides insights into the movie \"Mufasa: The Lion King,\" revealing plot twists and character arcs surrounding the story of Mufasa’s origin and rise to king. The film narrates how Mufasa, separated from his parents due to a flood, finds companionship with Taka and eventually faces challenges from the Outsiders. It highlights Mufasa’s journey from an outsider to a beloved king and touches on themes of brotherhood, love, and betrayal, ultimately culminating in his ascension to Pride Rock.\n",
       "\n",
       "## Elevator Pitch\n",
       "Imagine \"The Lion King\" meets \"Kung Fu Panda\" — in \"Mufasa: The Lion King,\" we dive into the origin story of the legendary king himself. Set against a backdrop of rivalries and sibling dynamics, witness the formative journey of Mufasa as he forges bonds through adversity, confronts betrayal from his brother Taka (who ultimately becomes Scar), and rises to unite the animal kingdom against external threats. This exhilarating prequel showcases the Circle of Life in action, enriched by a familial touch that echoes the heat of Pixar’s heartfelt storytelling."
      ],
      "text/plain": [
       "<IPython.core.display.Markdown object>"
      ]
     },
     "metadata": {},
     "output_type": "display_data"
    }
   ],
   "source": [
    "display_summary(\"https://themoviespoiler.com/movies/mufasa-the-lion-king/\")"
   ]
  },
  {
   "cell_type": "code",
   "execution_count": 24,
   "id": "442a5c25",
   "metadata": {},
   "outputs": [
    {
     "data": {
      "text/markdown": [
       "# Summary of NOSFERATU – The Movie Spoiler\n",
       "\n",
       "The **NOSFERATU** website serves as a detailed guide to the film’s plot, revealing major twists and the climactic conclusion. Set in 1830s Germany, it follows the story of Ellen and her husband Thomas Hutter, who becomes ensnared by the vampire Count Orlok due to Ellen's long-standing ties to him. Orlok threatens the lives of Thomas and their friends while spreading a plague, leading to a desperate struggle to save the town and Ellen. The climax sees Ellen sacrificing herself to destroy Orlok, freeing Wisborg from his curse.\n",
       "\n",
       "## Elevator Pitch\n",
       "\n",
       "Imagine *Twilight* meets *The Seventh Seal*, where a young woman, Ellen, unknowingly pledged her life to a vampire when she was a child. Years later, her husband Thomas fetches a cursed castle from an ancient monster, Count Orlok, who plans to claim her once again. As Orlok spreads his plague across their town, Ellen realizes the only way to protect her loved ones is through sacrificial love. This dark reimagining of the classic tale brings horror and romance to a head in a gripping battle against the shadowy forces of the night."
      ],
      "text/plain": [
       "<IPython.core.display.Markdown object>"
      ]
     },
     "metadata": {},
     "output_type": "display_data"
    }
   ],
   "source": [
    "display_summary(\"https://themoviespoiler.com/movies/nosferatu/\")"
   ]
  },
  {
   "cell_type": "code",
   "execution_count": null,
   "id": "00743dac-0e70-45b7-879a-d7293a6f68a6",
   "metadata": {},
   "outputs": [],
   "source": [
    "# Step 1: Create your prompts\n",
    "\n",
    "system_prompt = \"something here\"\n",
    "user_prompt = \"\"\"\n",
    "    Lots of text\n",
    "    Can be pasted here\n",
    "\"\"\"\n",
    "\n",
    "# Step 2: Make the messages list\n",
    "\n",
    "messages = [] # fill this in\n",
    "\n",
    "# Step 3: Call OpenAI\n",
    "\n",
    "response =\n",
    "\n",
    "# Step 4: print the result\n",
    "\n",
    "print("
   ]
  },
  {
   "cell_type": "markdown",
   "id": "36ed9f14-b349-40e9-a42c-b367e77f8bda",
   "metadata": {},
   "source": [
    "## An extra exercise for those who enjoy web scraping\n",
    "\n",
    "You may notice that if you try `display_summary(\"https://openai.com\")` - it doesn't work! That's because OpenAI has a fancy website that uses Javascript. There are many ways around this that some of you might be familiar with. For example, Selenium is a hugely popular framework that runs a browser behind the scenes, renders the page, and allows you to query it. If you have experience with Selenium, Playwright or similar, then feel free to improve the Website class to use them. In the community-contributions folder, you'll find an example Selenium solution from a student (thank you!)"
   ]
  },
  {
   "cell_type": "markdown",
   "id": "eeab24dc-5f90-4570-b542-b0585aca3eb6",
   "metadata": {},
   "source": [
    "# Sharing your code\n",
    "\n",
    "I'd love it if you share your code afterwards so I can share it with others! You'll notice that some students have already made changes (including a Selenium implementation) which you will find in the community-contributions folder. If you'd like add your changes to that folder, submit a Pull Request with your new versions in that folder and I'll merge your changes.\n",
    "\n",
    "If you're not an expert with git (and I am not!) then GPT has given some nice instructions on how to submit a Pull Request. It's a bit of an involved process, but once you've done it once it's pretty clear. As a pro-tip: it's best if you clear the outputs of your Jupyter notebooks (Edit >> Clean outputs of all cells, and then Save) for clean notebooks.\n",
    "\n",
    "Here are good instructions courtesy of an AI friend:  \n",
    "https://chatgpt.com/share/677a9cb5-c64c-8012-99e0-e06e88afd293"
   ]
  }
 ],
 "metadata": {
  "kernelspec": {
   "display_name": "llmengg",
   "language": "python",
   "name": "python3"
  },
  "language_info": {
   "codemirror_mode": {
    "name": "ipython",
    "version": 3
   },
   "file_extension": ".py",
   "mimetype": "text/x-python",
   "name": "python",
   "nbconvert_exporter": "python",
   "pygments_lexer": "ipython3",
   "version": "3.11.11"
  }
 },
 "nbformat": 4,
 "nbformat_minor": 5
}
